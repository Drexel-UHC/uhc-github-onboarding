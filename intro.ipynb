{
  "cells": [
    {
      "cell_type": "raw",
      "metadata": {},
      "source": [
        "---\n",
        "title: \"Intro\"\n",
        "subtitle: \"Some introductory slides\"\n",
        "page-layout: full\n",
        "title-block-banner: true\n",
        "slide-format: revealjs\n",
        "---"
      ],
      "id": "6c8e64e3"
    },
    {
      "cell_type": "markdown",
      "metadata": {},
      "source": [
        "```{html} \n",
        "<iframe class=\"slide-deck\" src=\"slides/\"  width=\"800\" height=\"500\" ></iframe>\n",
        "```"
      ],
      "id": "31dab620"
    }
  ],
  "metadata": {
    "kernelspec": {
      "display_name": "Python 3",
      "language": "python",
      "name": "python3"
    }
  },
  "nbformat": 4,
  "nbformat_minor": 5
}